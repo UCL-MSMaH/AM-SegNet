{
 "cells": [
  {
   "cell_type": "code",
   "execution_count": 1,
   "metadata": {},
   "outputs": [],
   "source": [
    "#In the variants of U-Net, the standard convolution block is substituted with a modified convolution block"
   ]
  },
  {
   "cell_type": "code",
   "execution_count": 2,
   "metadata": {},
   "outputs": [],
   "source": [
    "#import libraries for model development\n",
    "from keras import layers"
   ]
  },
  {
   "cell_type": "code",
   "execution_count": null,
   "metadata": {},
   "outputs": [],
   "source": [
    "# Res-Unet: repalce stand_conv_block with res_conv_block\n",
    "# Deep residual learning for image recognition. CVPR 2016"
   ]
  },
  {
   "cell_type": "code",
   "execution_count": 3,
   "metadata": {},
   "outputs": [],
   "source": [
    "def res_conv_block(inputs, filter_size, filter_num, dropout, batch_norm=True):\n",
    "\n",
    "    conv = layers.Conv2D(filter_num, (filter_size, filter_size), padding='same')(inputs)\n",
    "    \n",
    "    # Batch normalization operation\n",
    "    if batch_norm is True:\n",
    "        conv = layers.BatchNormalization(axis=3)(conv)\n",
    "\n",
    "    conv = layers.Activation('relu')(conv)\n",
    "    \n",
    "    conv = layers.Conv2D(filter_num, (filter_size, filter_size), padding='same')(conv)\n",
    "    \n",
    "    # Batch normalization operation\n",
    "    if batch_norm is True:\n",
    "        conv = layers.BatchNormalization(axis=3)(conv)\n",
    "    \n",
    "    # Dropout operation\n",
    "    if dropout > 0:\n",
    "        conv = layers.Dropout(dropout)(conv)\n",
    "\n",
    "    # Create shortcut\n",
    "    shortcut = layers.Conv2D(filter_num, kernel_size=(1, 1), padding='same')(inputs)\n",
    "\n",
    "    # Batch normalization operation\n",
    "    if batch_norm is True:\n",
    "        shortcut = layers.BatchNormalization(axis=3)(shortcut)\n",
    "\n",
    "    # Add shortcut with conv\n",
    "    res_conv = layers.add([shortcut, conv])\n",
    "\n",
    "    res_conv = layers.Activation('relu')(res_conv)\n",
    "    \n",
    "    return res_conv\n"
   ]
  },
  {
   "cell_type": "code",
   "execution_count": null,
   "metadata": {},
   "outputs": [],
   "source": [
    "# Squeeze-Unet: repalce stand_conv_block with fire_block in the downsampling layers\n",
    "# SqueezeNet: AlexNet-level accuracy with 50x fewer parameters and <0.5MB model size"
   ]
  },
  {
   "cell_type": "code",
   "execution_count": null,
   "metadata": {},
   "outputs": [],
   "source": [
    "def fire_block(inputs, filter_size, filter_num, dropout, batch_norm=True):\n",
    "\n",
    "    #squeeze\n",
    "    squeeze = layers.Conv2D(filter_num, (1, 1), padding='same')(inputs)\n",
    "\n",
    "    if batch_norm is True:\n",
    "        squeeze = layers.BatchNormalization(axis=3)(squeeze)\n",
    "\n",
    "    squeeze = layers.Activation('relu')(squeeze)\n",
    "\n",
    "    #left\n",
    "    left = layers.Conv2D(filter_num, (1, 1), padding='same')(squeeze)\n",
    "\n",
    "    if batch_norm is True:\n",
    "        left = layers.BatchNormalization(axis=3)(left)\n",
    "\n",
    "    left = layers.Activation('relu')(left)\n",
    "\n",
    "    #right\n",
    "    right = layers.Conv2D(filter_num,(filter_size, filter_size), padding='same')(squeeze)\n",
    "\n",
    "    if batch_norm is True:\n",
    "        right = layers.BatchNormalization(axis=3)(right)\n",
    "        \n",
    "    right = layers.Activation(\"relu\")(right)\n",
    "\n",
    "    #concatenate\n",
    "    fire_block = layers.concatenate([left, right], axis=3)\n",
    "\n",
    "    if dropout > 0:\n",
    "        fire_block = layers.Dropout(dropout)(fire_block)\n",
    "\n",
    "    return fire_block"
   ]
  }
 ],
 "metadata": {
  "kernelspec": {
   "display_name": "tf",
   "language": "python",
   "name": "python3"
  },
  "language_info": {
   "codemirror_mode": {
    "name": "ipython",
    "version": 3
   },
   "file_extension": ".py",
   "mimetype": "text/x-python",
   "name": "python",
   "nbconvert_exporter": "python",
   "pygments_lexer": "ipython3",
   "version": "3.9.17"
  },
  "orig_nbformat": 4,
  "vscode": {
   "interpreter": {
    "hash": "d1c0582f30543fff29a5261a1abd13119b0f120c9034b64de73a59460f47c2f8"
   }
  }
 },
 "nbformat": 4,
 "nbformat_minor": 2
}
