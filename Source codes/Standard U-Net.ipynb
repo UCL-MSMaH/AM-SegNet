{
 "cells": [
  {
   "cell_type": "code",
   "execution_count": null,
   "metadata": {},
   "outputs": [],
   "source": [
    "# Construction of Standard U-Net\n",
    "# U-Net: deep learning for cell counting, detection, and morphometry. Nat Methods 16, 67–70 (2019)"
   ]
  },
  {
   "cell_type": "code",
   "execution_count": null,
   "metadata": {},
   "outputs": [],
   "source": [
    "#import libraries for model development\n",
    "from keras import models, layers"
   ]
  },
  {
   "cell_type": "code",
   "execution_count": null,
   "metadata": {},
   "outputs": [],
   "source": [
    "#Definition of standard convolution block\n",
    "\n",
    "def stand_conv_block(inputs, filter_size, filter_num, dropout, batch_norm=True):\n",
    "\n",
    "    conv = layers.Conv2D(filter_num, (filter_size, filter_size), padding='same')(inputs)\n",
    "    \n",
    "    # Batch normalization operation\n",
    "    if batch_norm is True:\n",
    "\n",
    "        conv = layers.BatchNormalization(axis=3)(conv)\n",
    "\n",
    "    conv = layers.Activation('relu')(conv)\n",
    "\n",
    "    conv = layers.Conv2D(filter_num, (filter_size, filter_size), padding='same')(conv)\n",
    "    \n",
    "    # Batch normalization operation\n",
    "    if batch_norm is True:\n",
    "\n",
    "        conv = layers.BatchNormalization(axis=3)(conv)\n",
    "\n",
    "    conv_output = layers.Activation('relu')(conv)\n",
    "    \n",
    "    # Dropout operation\n",
    "    if dropout > 0:\n",
    "        \n",
    "        conv_output = layers.Dropout(dropout)(conv_output)\n",
    "\n",
    "    return conv_output"
   ]
  },
  {
   "cell_type": "code",
   "execution_count": null,
   "metadata": {},
   "outputs": [],
   "source": [
    "#Definition of Unet architecture\n",
    "\n",
    "def Unet(input_size, class_num, dropout, batch_norm):\n",
    "\n",
    "    # parameters of network congfiguration\n",
    "    filter_num = 64 # number of filters\n",
    "    filter_size = 3 # size of filters\n",
    "    up_samp_size = 2 # size of upsampling filters\n",
    "\n",
    "    inputs = layers.Input(input_size)\n",
    "\n",
    "    # Downsampling\n",
    "\n",
    "    # Downsampling step 1\n",
    "    conv_1 = stand_conv_block(inputs, filter_size, 1*filter_num, dropout, batch_norm)\n",
    "    pool_1 = layers.MaxPooling2D(pool_size=(2,2))(conv_1)\n",
    "\n",
    "    # Downsampling step 2\n",
    "    conv_2 = stand_conv_block(pool_1, filter_size, 2*filter_num, dropout, batch_norm)\n",
    "    pool_2 = layers.MaxPooling2D(pool_size=(2,2))(conv_2)\n",
    "\n",
    "    # Downsampling step 3\n",
    "    conv_3 = stand_conv_block(pool_2, filter_size, 4*filter_num, dropout, batch_norm)\n",
    "    pool_3 = layers.MaxPooling2D(pool_size=(2,2))(conv_3)\n",
    "\n",
    "    # Downsampling step 4\n",
    "    conv_4 = stand_conv_block(pool_3, filter_size, 8*filter_num, dropout, batch_norm)\n",
    "    pool_4 = layers.MaxPooling2D(pool_size=(2,2))(conv_4)\n",
    "\n",
    "    conv_5 = stand_conv_block(pool_4, filter_size, 16*filter_num, dropout, batch_norm)\n",
    "\n",
    "    # Upsampling\n",
    "\n",
    "    # Upsampling step 1\n",
    "\n",
    "    up_1 = layers.UpSampling2D(size=(up_samp_size, up_samp_size), data_format=\"channels_last\")(conv_5)\n",
    "    up_1 = layers.concatenate([up_1, conv_4], axis=3)\n",
    "    up_conv_1 = stand_conv_block(up_1, filter_size, 8*filter_num, dropout, batch_norm)\n",
    "   \n",
    "    # Upsampling step 2\n",
    "    up_2 = layers.UpSampling2D(size=(up_samp_size, up_samp_size), data_format=\"channels_last\")(up_conv_1)\n",
    "    up_2 = layers.concatenate([up_2, conv_3], axis=3)\n",
    "    up_conv_2 = stand_conv_block(up_2, filter_size, 4*filter_num, dropout, batch_norm)\n",
    "    \n",
    "    # Upsampling step 3\n",
    "    up_3 = layers.UpSampling2D(size=(up_samp_size, up_samp_size), data_format=\"channels_last\")(up_conv_2)\n",
    "    up_3 = layers.concatenate([up_3, conv_2], axis=3)\n",
    "    up_conv_3 = stand_conv_block(up_3, filter_size, 2*filter_num, dropout, batch_norm)\n",
    "\n",
    "    # Upsampling step 4\n",
    "    up_4 = layers.UpSampling2D(size=(up_samp_size, up_samp_size), data_format=\"channels_last\")(up_conv_3)\n",
    "    up_4 = layers.concatenate([up_4, conv_1], axis=3)\n",
    "    up_conv_4 = stand_conv_block(up_4, filter_size, 1*filter_num, dropout, batch_norm)\n",
    "\n",
    "    # 1*1 convolution\n",
    "    conv_final = layers.Conv2D(class_num, kernel_size=(1,1))(up_conv_4)\n",
    "    conv_final = layers.BatchNormalization(axis=3)(conv_final)\n",
    "    conv_final = layers.Activation('softmax')(conv_final)\n",
    "\n",
    "    # Model \n",
    "    model = models.Model(inputs, conv_final, name=\"U-Net\")\n",
    "\n",
    "    # print model summary for details\n",
    "    print(model.summary())\n",
    "\n",
    "    return model"
   ]
  },
  {
   "cell_type": "code",
   "execution_count": null,
   "metadata": {},
   "outputs": [],
   "source": [
    "#Size of images and input shape\n",
    "\n",
    "input_size_x= 256 \n",
    "input_size_y= 512\n",
    "input_size = (input_size_x,input_size_y,1)"
   ]
  },
  {
   "cell_type": "code",
   "execution_count": null,
   "metadata": {},
   "outputs": [],
   "source": [
    "#Number of pixel labels: Keyhole, pore, substract, background and powder\n",
    "class_num=5\n",
    "\n",
    "#Setting dropout rate\n",
    "dropout=0.0"
   ]
  },
  {
   "cell_type": "code",
   "execution_count": null,
   "metadata": {},
   "outputs": [],
   "source": [
    "#create the standard U-net model\n",
    "\n",
    "model = Unet(input_size, class_num, dropout, batch_norm=True)"
   ]
  }
 ],
 "metadata": {
  "kernelspec": {
   "display_name": "tf",
   "language": "python",
   "name": "python3"
  },
  "language_info": {
   "codemirror_mode": {
    "name": "ipython",
    "version": 3
   },
   "file_extension": ".py",
   "mimetype": "text/x-python",
   "name": "python",
   "nbconvert_exporter": "python",
   "pygments_lexer": "ipython3",
   "version": "3.9.17"
  },
  "orig_nbformat": 4,
  "vscode": {
   "interpreter": {
    "hash": "d1c0582f30543fff29a5261a1abd13119b0f120c9034b64de73a59460f47c2f8"
   }
  }
 },
 "nbformat": 4,
 "nbformat_minor": 2
}
